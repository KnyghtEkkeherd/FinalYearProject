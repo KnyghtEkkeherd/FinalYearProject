{
 "cells": [
  {
   "cell_type": "code",
   "execution_count": 1,
   "metadata": {},
   "outputs": [
    {
     "name": "stderr",
     "output_type": "stream",
     "text": [
      "/Users/ooj/Dev/HKUST/fyp/FinalYearProject/src/cv/.venv/lib/python3.11/site-packages/torchreid/reid/metrics/rank.py:11: UserWarning: Cython evaluation (very fast so highly recommended) is unavailable, now use python evaluation.\n",
      "  warnings.warn(\n"
     ]
    }
   ],
   "source": [
    "import torch\n",
    "import cv2\n",
    "import numpy as np\n",
    "from torchreid.reid.utils import FeatureExtractor\n",
    "import pickle"
   ]
  },
  {
   "cell_type": "code",
   "execution_count": 2,
   "metadata": {},
   "outputs": [
    {
     "data": {
      "text/plain": [
       "'mps'"
      ]
     },
     "execution_count": 2,
     "metadata": {},
     "output_type": "execute_result"
    }
   ],
   "source": [
    "device = \"mps\" if torch.backends.mps.is_available() else \"cpu\"\n",
    "device"
   ]
  },
  {
   "cell_type": "code",
   "execution_count": 3,
   "metadata": {},
   "outputs": [
    {
     "name": "stdout",
     "output_type": "stream",
     "text": [
      "Successfully loaded imagenet pretrained weights from \"/Users/ooj/.cache/torch/checkpoints/osnet_x1_0_imagenet.pth\"\n",
      "** The following layers are discarded due to unmatched keys or layer size: ['classifier.weight', 'classifier.bias']\n",
      "Model: osnet_x1_0\n",
      "- params: 2,193,616\n",
      "- flops: 978,878,352\n"
     ]
    }
   ],
   "source": [
    "extractor = FeatureExtractor(\n",
    "    model_name='osnet_x1_0',\n",
    "    model_path=None,\n",
    "    device=device\n",
    ")\n",
    "\n",
    "# TODO: add randomness (flip, crop, erase, jitter, etc...) via transformations"
   ]
  },
  {
   "cell_type": "code",
   "execution_count": 4,
   "metadata": {},
   "outputs": [],
   "source": [
    "img = cv2.imread(\"media/bus.jpg\")"
   ]
  },
  {
   "cell_type": "code",
   "execution_count": 5,
   "metadata": {},
   "outputs": [
    {
     "name": "stdout",
     "output_type": "stream",
     "text": [
      "Extracted embedding shape: torch.Size([1, 512])\n",
      "Embedding vector (first 10 dims): tensor([0.0000, 2.1946, 1.4717, 0.0000, 2.2121, 1.3011, 2.6642, 1.5508, 0.0000,\n",
      "        1.7066], device='mps:0')\n"
     ]
    }
   ],
   "source": [
    "features = extractor([img])\n",
    "print(\"Extracted embedding shape:\", features.shape)\n",
    "print(\"Embedding vector (first 10 dims):\", features[0][:10])"
   ]
  },
  {
   "cell_type": "code",
   "execution_count": 6,
   "metadata": {},
   "outputs": [],
   "source": [
    "cap = cv2.VideoCapture(0)\n",
    "embeddings = []\n",
    "max_samples = 100\n",
    "captured_frames = 0"
   ]
  },
  {
   "cell_type": "code",
   "execution_count": 7,
   "metadata": {},
   "outputs": [],
   "source": [
    "while captured_frames < max_samples:\n",
    "    ret, frame = cap.read()\n",
    "\n",
    "    noisy = [frame]\n",
    "    \n",
    "    brightness_factor = np.random.uniform(0.5, 1.5)\n",
    "    frame_bright = cv2.convertScaleAbs(frame, alpha=brightness_factor, beta=0)\n",
    "    noisy.append(frame_bright)\n",
    "\n",
    "    hsv = cv2.cvtColor(frame, cv2.COLOR_BGR2HSV)\n",
    "    saturation_factor = np.random.uniform(0.5, 1.5)\n",
    "    hsv[:, :, 1] = hsv[:, :, 1] * saturation_factor\n",
    "    frame_saturation = cv2.cvtColor(hsv, cv2.COLOR_HSV2BGR)\n",
    "    noisy.append(frame_saturation)\n",
    "\n",
    "    noise = np.random.normal(scale=0.5, size=frame.shape).astype(np.uint8)\n",
    "    noisy_frame = cv2.add(frame, noise)\n",
    "    noisy.append(noisy_frame)\n",
    "\n",
    "    R, G, B = cv2.split(frame)\n",
    "    output1_R = cv2.equalizeHist(R)\n",
    "    output1_G = cv2.equalizeHist(G)\n",
    "    output1_B = cv2.equalizeHist(B)\n",
    "    eq_frame = cv2.merge((output1_R, output1_G, output1_B))\n",
    "    noisy.append(eq_frame)\n",
    "\n",
    "    combined_frame = np.hstack((frame, frame_bright,  frame_saturation, noisy_frame, eq_frame))\n",
    "    cv2.imshow(f\"Capturing sample...\", combined_frame)\n",
    "\n",
    "    for noisy_frame in noisy:\n",
    "        embedding_tensor = extractor([noisy_frame])\n",
    "        embedding = embedding_tensor.cpu().numpy().flatten()\n",
    "        norm = np.linalg.norm(embedding)\n",
    "        embedding = embedding if norm == 0 else embedding / norm\n",
    "        embeddings.append(embedding)\n",
    "\n",
    "    captured_frames += 1\n",
    "    print(f\"Campured sample {captured_frames}/{max_samples}\")\n",
    "\n",
    "    if cv2.waitKey(1) & 0xFF == ord('q'):\n",
    "        break"
   ]
  },
  {
   "cell_type": "code",
   "execution_count": 8,
   "metadata": {},
   "outputs": [],
   "source": [
    "cap.release()\n",
    "cv2.destroyAllWindows()"
   ]
  },
  {
   "cell_type": "code",
   "execution_count": 9,
   "metadata": {},
   "outputs": [
    {
     "name": "stdout",
     "output_type": "stream",
     "text": [
      "Enrollment complete. Embeddings saved to data/test3_embeddings.pkl\n"
     ]
    }
   ],
   "source": [
    "filename = f\"data/test3_embeddings.pkl\"\n",
    "with open(filename, \"wb\") as f:\n",
    "    pickle.dump(embeddings, f)\n",
    "print(f\"Enrollment complete. Embeddings saved to {filename}\")"
   ]
  },
  {
   "cell_type": "markdown",
   "metadata": {},
   "source": [
    "# train model instead of generate embeddings\n"
   ]
  }
 ],
 "metadata": {
  "kernelspec": {
   "display_name": ".venv",
   "language": "python",
   "name": "python3"
  },
  "language_info": {
   "codemirror_mode": {
    "name": "ipython",
    "version": 3
   },
   "file_extension": ".py",
   "mimetype": "text/x-python",
   "name": "python",
   "nbconvert_exporter": "python",
   "pygments_lexer": "ipython3",
   "version": "3.11.11"
  }
 },
 "nbformat": 4,
 "nbformat_minor": 2
}
